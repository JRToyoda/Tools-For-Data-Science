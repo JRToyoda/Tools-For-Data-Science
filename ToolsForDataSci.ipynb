{
  "cells": [
    {
      "cell_type": "markdown",
      "metadata": {
        "id": "trQT2CjjWRnI"
      },
      "source": [
        "# Tools for Data Science"
      ]
    },
    {
      "cell_type": "markdown",
      "metadata": {
        "id": "c-gTEpYpXE0K"
      },
      "source": [
        "This notebook summarizes the tools for data science."
      ]
    },
    {
      "cell_type": "markdown",
      "metadata": {
        "id": "xiTOWlMzXJ_B"
      },
      "source": [
        "List of Popular Data Science Languages:\n",
        "\n",
        "1. Python\n",
        "2. R\n",
        "3. SQL\n",
        "4. Julia\n",
        "5. C++"
      ]
    },
    {
      "cell_type": "markdown",
      "metadata": {
        "id": "ff-pVzXaXYCb"
      },
      "source": [
        "List of Commonly Used Data Science Libraries:\n",
        "\n",
        "1. NumPy\n",
        "2. Pandas\n",
        "3. TensorFlow\n",
        "4. Matplotlib\n",
        "5. Scikit-Learn"
      ]
    },
    {
      "cell_type": "markdown",
      "metadata": {
        "id": "XULOjrpFX8e3"
      },
      "source": [
        "|Data Science Tools|\n",
        "|---|\n",
        "|TensorFlow|\n",
        "|Apache Hadoop|\n",
        "|SAS|"
      ]
    },
    {
      "cell_type": "markdown",
      "metadata": {},
      "source": [
        "Below are how to perform arithmetic expressions in Python"
      ]
    },
    {
      "cell_type": "code",
      "execution_count": 1,
      "metadata": {
        "colab": {
          "base_uri": "https://localhost:8080/"
        },
        "id": "afLUxYMlYmPi",
        "outputId": "379600f1-6012-4458-d16d-687f30018bf4"
      },
      "outputs": [
        {
          "data": {
            "text/plain": [
              "5"
            ]
          },
          "execution_count": 1,
          "metadata": {},
          "output_type": "execute_result"
        }
      ],
      "source": [
        "#this is a cell that multiplies and adds numbers\n",
        "2*2+1"
      ]
    },
    {
      "cell_type": "code",
      "execution_count": 2,
      "metadata": {
        "colab": {
          "base_uri": "https://localhost:8080/"
        },
        "id": "B7NEISt4ZF4D",
        "outputId": "62b50555-a888-4fe9-d6f8-20abe2e3ecda"
      },
      "outputs": [
        {
          "data": {
            "text/plain": [
              "5.0"
            ]
          },
          "execution_count": 2,
          "metadata": {},
          "output_type": "execute_result"
        }
      ],
      "source": [
        "#this is a cell converts 300 minutes to hours\n",
        "300/60"
      ]
    },
    {
      "cell_type": "markdown",
      "metadata": {
        "id": "2nGxT7_5Znde"
      },
      "source": [
        "Objectives\n",
        "\n",
        "1. List popular languages for Data Science\n",
        "2. List commonly used libraries for Data Science\n",
        "3. List commonly used Tools for Data Science\n",
        "4. Perform basic arithmetic using Python"
      ]
    },
    {
      "cell_type": "markdown",
      "metadata": {
        "id": "UkjvwFwyavlT"
      },
      "source": [
        "##Author\n",
        "Jaen Toyoda"
      ]
    }
  ],
  "metadata": {
    "colab": {
      "provenance": []
    },
    "kernelspec": {
      "display_name": "Python 3",
      "name": "python3"
    },
    "language_info": {
      "name": "python"
    }
  },
  "nbformat": 4,
  "nbformat_minor": 0
}
