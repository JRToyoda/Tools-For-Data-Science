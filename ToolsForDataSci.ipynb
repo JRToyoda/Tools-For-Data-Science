{
  "nbformat": 4,
  "nbformat_minor": 0,
  "metadata": {
    "colab": {
      "provenance": []
    },
    "kernelspec": {
      "name": "python3",
      "display_name": "Python 3"
    },
    "language_info": {
      "name": "python"
    }
  },
  "cells": [
    {
      "cell_type": "markdown",
      "source": [
        "# Tools for Data Science"
      ],
      "metadata": {
        "id": "trQT2CjjWRnI"
      }
    },
    {
      "cell_type": "markdown",
      "source": [
        "This notebook summarizes the tools for data science."
      ],
      "metadata": {
        "id": "c-gTEpYpXE0K"
      }
    },
    {
      "cell_type": "markdown",
      "source": [
        "List of Popular Data Science Languages:\n",
        "\n",
        "1. Python\n",
        "2. R\n",
        "3. SQL\n",
        "4. Julia\n",
        "5. C++"
      ],
      "metadata": {
        "id": "xiTOWlMzXJ_B"
      }
    },
    {
      "cell_type": "markdown",
      "source": [
        "List of Commonly Used Data Science Libraries:\n",
        "\n",
        "1. NumPy\n",
        "2. Pandas\n",
        "3. TensorFlow\n",
        "4. Matplotlib\n",
        "5. Scikit-Learn"
      ],
      "metadata": {
        "id": "ff-pVzXaXYCb"
      }
    },
    {
      "cell_type": "markdown",
      "source": [
        "|Data Science Tools|\n",
        "|---|\n",
        "|TensorFlow|\n",
        "|Apache Hadoop|\n",
        "|SAS|"
      ],
      "metadata": {
        "id": "XULOjrpFX8e3"
      }
    },
    {
      "cell_type": "code",
      "source": [
        "#this is a cell that multiplies and adds numbers\n",
        "2*2+1"
      ],
      "metadata": {
        "colab": {
          "base_uri": "https://localhost:8080/"
        },
        "id": "afLUxYMlYmPi",
        "outputId": "379600f1-6012-4458-d16d-687f30018bf4"
      },
      "execution_count": 1,
      "outputs": [
        {
          "output_type": "execute_result",
          "data": {
            "text/plain": [
              "5"
            ]
          },
          "metadata": {},
          "execution_count": 1
        }
      ]
    },
    {
      "cell_type": "code",
      "source": [
        "#this is a cell converts 300 minutes to hours\n",
        "300/60"
      ],
      "metadata": {
        "colab": {
          "base_uri": "https://localhost:8080/"
        },
        "id": "B7NEISt4ZF4D",
        "outputId": "62b50555-a888-4fe9-d6f8-20abe2e3ecda"
      },
      "execution_count": 2,
      "outputs": [
        {
          "output_type": "execute_result",
          "data": {
            "text/plain": [
              "5.0"
            ]
          },
          "metadata": {},
          "execution_count": 2
        }
      ]
    },
    {
      "cell_type": "markdown",
      "source": [
        "Objectives\n",
        "\n",
        "1. List popular languages for Data Science\n",
        "2. List commonly used libraries for Data Science\n",
        "3. List commonly used Tools for Data Science\n",
        "4. Perform basic arithmetic using Python"
      ],
      "metadata": {
        "id": "2nGxT7_5Znde"
      }
    },
    {
      "cell_type": "markdown",
      "source": [
        "##Author\n",
        "Jaen Toyoda"
      ],
      "metadata": {
        "id": "UkjvwFwyavlT"
      }
    }
  ]
}